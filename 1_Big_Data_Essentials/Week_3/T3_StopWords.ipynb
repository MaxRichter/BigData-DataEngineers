{
 "cells": [
  {
   "cell_type": "code",
   "execution_count": null,
   "metadata": {},
   "outputs": [],
   "source": [
    "Improve the previous program to calculate how many stop words are in the input dataset. \n",
    "Stop words list is in ‘/datasets/stop_words_en.txt’ file. \n",
    "\n",
    "Use Hadoop counter to count the number of stop words and total words in the dataset. \n",
    "The result is the percentage of stop words in the entire dataset (without percent symbol)."
   ]
  },
  {
   "cell_type": "code",
   "execution_count": 1,
   "metadata": {},
   "outputs": [
    {
     "name": "stdout",
     "output_type": "stream",
     "text": [
      "Writing mapper.py\n"
     ]
    }
   ],
   "source": [
    "%%writefile mapper.py\n",
    "\n",
    "import sys\n",
    "import re\n",
    "from collections import Counter\n",
    "\n",
    "reload(sys)\n",
    "sys.setdefaultencoding('utf-8') # required to convert to unicode\n",
    "\n",
    "with open('stop_words_en.txt', 'r') as f:\n",
    "    stop_words = [s.strip() for s in f.readlines()]\n",
    "        \n",
    "for line in sys.stdin:\n",
    "    try:\n",
    "        article_id, text = unicode(line.strip()).split('\\t', 1)\n",
    "    except ValueError as e:\n",
    "        continue\n",
    "    text = re.sub(\"^\\W+|\\W+$\", \"\", text, flags=re.UNICODE)\n",
    "    words = re.split(\"\\W*\\s+\\W*\", text, flags=re.UNICODE)\n",
    "    \n",
    "    all_words_cnt = 0\n",
    "    stop_words_cnt = 0\n",
    "    c = Counter()\n",
    "    \n",
    "    for word in words:\n",
    "        all_words_cnt += 1\n",
    "        if word in stop_words:\n",
    "            c.update({word: 1})\n",
    "        \n",
    "    for word in c:\n",
    "        key = word\n",
    "        count = c[key]\n",
    "        stop_words_cnt += count\n",
    "    \n",
    "    print >> sys.stderr, \"reporter:counter:Wiki stats,Total words,%d\" % all_words_cnt\n",
    "    print >> sys.stderr, \"reporter:counter:Wiki stats,Stop words,%d\" % stop_words_cnt\n",
    "\n",
    "    print(\"%d\\t%d\" % (stop_words_cnt, all_words_cnt))"
   ]
  },
  {
   "cell_type": "code",
   "execution_count": 2,
   "metadata": {},
   "outputs": [
    {
     "name": "stdout",
     "output_type": "stream",
     "text": [
      "Writing reducer.py\n"
     ]
    }
   ],
   "source": [
    "%%writefile reducer.py\n",
    "\n",
    "import sys\n",
    "\n",
    "current_key = None\n",
    "word_sum = 0\n",
    "\n",
    "for line in sys.stdin:\n",
    "    try:\n",
    "        stop_words_cnt, all_words_cnt = line.strip().split('\\t', 1)\n",
    "        stop_words_cnt = int(stop_words_cnt)\n",
    "        all_words_cnt = int(all_words_cnt)\n",
    "    except ValueError as e:\n",
    "        continue\n",
    "\n",
    "    print \"%d\\t%d\" % (stop_words_cnt, all_words_cnt)"
   ]
  },
  {
   "cell_type": "code",
   "execution_count": 4,
   "metadata": {},
   "outputs": [
    {
     "name": "stdout",
     "output_type": "stream",
     "text": [
      "Found 1 items\r\n",
      "drwxrwxrwx   - jovyan supergroup          0 2017-10-17 13:15 /data/wiki/en_articles_part\r\n"
     ]
    }
   ],
   "source": [
    "! hdfs dfs -ls /data/wiki"
   ]
  },
  {
   "cell_type": "code",
   "execution_count": 5,
   "metadata": {
    "scrolled": true
   },
   "outputs": [
    {
     "name": "stdout",
     "output_type": "stream",
     "text": [
      "38.440698"
     ]
    },
    {
     "name": "stderr",
     "output_type": "stream",
     "text": [
      "rm: `wordcount_result_1512400965810061': No such file or directory\n",
      "17/12/04 15:22:49 INFO client.RMProxy: Connecting to ResourceManager at /0.0.0.0:8032\n",
      "17/12/04 15:22:49 INFO client.RMProxy: Connecting to ResourceManager at /0.0.0.0:8032\n",
      "17/12/04 15:22:50 INFO mapred.FileInputFormat: Total input files to process : 1\n",
      "17/12/04 15:22:50 INFO mapreduce.JobSubmitter: number of splits:2\n",
      "17/12/04 15:22:51 INFO mapreduce.JobSubmitter: Submitting tokens for job: job_1512373225895_0001\n",
      "17/12/04 15:22:51 INFO impl.YarnClientImpl: Submitted application application_1512373225895_0001\n",
      "17/12/04 15:22:51 INFO mapreduce.Job: The url to track the job: http://af435f2bdcff:8088/proxy/application_1512373225895_0001/\n",
      "17/12/04 15:22:51 INFO mapreduce.Job: Running job: job_1512373225895_0001\n",
      "17/12/04 15:22:58 INFO mapreduce.Job: Job job_1512373225895_0001 running in uber mode : false\n",
      "17/12/04 15:22:58 INFO mapreduce.Job:  map 0% reduce 0%\n",
      "17/12/04 15:23:14 INFO mapreduce.Job:  map 5% reduce 0%\n",
      "17/12/04 15:23:20 INFO mapreduce.Job:  map 7% reduce 0%\n",
      "17/12/04 15:23:26 INFO mapreduce.Job:  map 9% reduce 0%\n",
      "17/12/04 15:23:32 INFO mapreduce.Job:  map 11% reduce 0%\n",
      "17/12/04 15:23:38 INFO mapreduce.Job:  map 14% reduce 0%\n",
      "17/12/04 15:23:44 INFO mapreduce.Job:  map 16% reduce 0%\n",
      "17/12/04 15:23:50 INFO mapreduce.Job:  map 18% reduce 0%\n",
      "17/12/04 15:23:56 INFO mapreduce.Job:  map 20% reduce 0%\n",
      "17/12/04 15:24:02 INFO mapreduce.Job:  map 22% reduce 0%\n",
      "17/12/04 15:24:08 INFO mapreduce.Job:  map 25% reduce 0%\n",
      "17/12/04 15:24:14 INFO mapreduce.Job:  map 27% reduce 0%\n",
      "17/12/04 15:24:20 INFO mapreduce.Job:  map 29% reduce 0%\n",
      "17/12/04 15:24:26 INFO mapreduce.Job:  map 31% reduce 0%\n",
      "17/12/04 15:24:32 INFO mapreduce.Job:  map 34% reduce 0%\n",
      "17/12/04 15:24:38 INFO mapreduce.Job:  map 36% reduce 0%\n",
      "17/12/04 15:24:44 INFO mapreduce.Job:  map 38% reduce 0%\n",
      "17/12/04 15:24:50 INFO mapreduce.Job:  map 40% reduce 0%\n",
      "17/12/04 15:24:56 INFO mapreduce.Job:  map 42% reduce 0%\n",
      "17/12/04 15:25:03 INFO mapreduce.Job:  map 45% reduce 0%\n",
      "17/12/04 15:25:09 INFO mapreduce.Job:  map 47% reduce 0%\n",
      "17/12/04 15:25:15 INFO mapreduce.Job:  map 49% reduce 0%\n",
      "17/12/04 15:25:21 INFO mapreduce.Job:  map 51% reduce 0%\n",
      "17/12/04 15:25:27 INFO mapreduce.Job:  map 53% reduce 0%\n",
      "17/12/04 15:25:33 INFO mapreduce.Job:  map 56% reduce 0%\n",
      "17/12/04 15:25:39 INFO mapreduce.Job:  map 58% reduce 0%\n",
      "17/12/04 15:25:45 INFO mapreduce.Job:  map 60% reduce 0%\n",
      "17/12/04 15:25:51 INFO mapreduce.Job:  map 62% reduce 0%\n",
      "17/12/04 15:25:57 INFO mapreduce.Job:  map 64% reduce 0%\n",
      "17/12/04 15:26:03 INFO mapreduce.Job:  map 67% reduce 0%\n",
      "17/12/04 15:26:04 INFO mapreduce.Job:  map 100% reduce 0%\n",
      "17/12/04 15:26:08 INFO mapreduce.Job:  map 100% reduce 13%\n",
      "17/12/04 15:26:09 INFO mapreduce.Job:  map 100% reduce 25%\n",
      "17/12/04 15:26:10 INFO mapreduce.Job:  map 100% reduce 38%\n",
      "17/12/04 15:26:11 INFO mapreduce.Job:  map 100% reduce 50%\n",
      "17/12/04 15:26:13 INFO mapreduce.Job:  map 100% reduce 75%\n",
      "17/12/04 15:26:14 INFO mapreduce.Job:  map 100% reduce 100%\n",
      "17/12/04 15:26:15 INFO mapreduce.Job: Job job_1512373225895_0001 completed successfully\n",
      "17/12/04 15:26:15 INFO mapreduce.Job: Counters: 52\n",
      "\tFile System Counters\n",
      "\t\tFILE: Number of bytes read=45316\n",
      "\t\tFILE: Number of bytes written=1493486\n",
      "\t\tFILE: Number of read operations=0\n",
      "\t\tFILE: Number of large read operations=0\n",
      "\t\tFILE: Number of write operations=0\n",
      "\t\tHDFS: Number of bytes read=76874501\n",
      "\t\tHDFS: Number of bytes written=37068\n",
      "\t\tHDFS: Number of read operations=30\n",
      "\t\tHDFS: Number of large read operations=0\n",
      "\t\tHDFS: Number of write operations=16\n",
      "\tJob Counters \n",
      "\t\tKilled reduce tasks=1\n",
      "\t\tLaunched map tasks=2\n",
      "\t\tLaunched reduce tasks=8\n",
      "\t\tData-local map tasks=2\n",
      "\t\tTotal time spent by all maps in occupied slots (ms)=365996\n",
      "\t\tTotal time spent by all reduces in occupied slots (ms)=19971\n",
      "\t\tTotal time spent by all map tasks (ms)=365996\n",
      "\t\tTotal time spent by all reduce tasks (ms)=19971\n",
      "\t\tTotal vcore-milliseconds taken by all map tasks=365996\n",
      "\t\tTotal vcore-milliseconds taken by all reduce tasks=19971\n",
      "\t\tTotal megabyte-milliseconds taken by all map tasks=374779904\n",
      "\t\tTotal megabyte-milliseconds taken by all reduce tasks=20450304\n",
      "\tMap-Reduce Framework\n",
      "\t\tMap input records=4100\n",
      "\t\tMap output records=4100\n",
      "\t\tMap output bytes=37068\n",
      "\t\tMap output materialized bytes=45364\n",
      "\t\tInput split bytes=228\n",
      "\t\tCombine input records=4100\n",
      "\t\tCombine output records=4100\n",
      "\t\tReduce input groups=2113\n",
      "\t\tReduce shuffle bytes=45364\n",
      "\t\tReduce input records=4100\n",
      "\t\tReduce output records=4100\n",
      "\t\tSpilled Records=8200\n",
      "\t\tShuffled Maps =16\n",
      "\t\tFailed Shuffles=0\n",
      "\t\tMerged Map outputs=16\n",
      "\t\tGC time elapsed (ms)=737\n",
      "\t\tCPU time spent (ms)=371890\n",
      "\t\tPhysical memory (bytes) snapshot=2097074176\n",
      "\t\tVirtual memory (bytes) snapshot=20141146112\n",
      "\t\tTotal committed heap usage (bytes)=1587019776\n",
      "\tShuffle Errors\n",
      "\t\tBAD_ID=0\n",
      "\t\tCONNECTION=0\n",
      "\t\tIO_ERROR=0\n",
      "\t\tWRONG_LENGTH=0\n",
      "\t\tWRONG_MAP=0\n",
      "\t\tWRONG_REDUCE=0\n",
      "\tWiki stats\n",
      "\t\tStop words=4588788\n",
      "\t\tTotal words=11937317\n",
      "\tFile Input Format Counters \n",
      "\t\tBytes Read=76874273\n",
      "\tFile Output Format Counters \n",
      "\t\tBytes Written=37068\n",
      "17/12/04 15:26:15 INFO streaming.StreamJob: Output directory: wordcount_result_1512400965810061\n"
     ]
    }
   ],
   "source": [
    "%%bash\n",
    "\n",
    "OUT_DIR=\"wordcount_result_\"$(date +\"%s%6N\")\n",
    "OUT_LOG=\"result.txt\"\n",
    "NUM_REDUCERS=8\n",
    "\n",
    "hdfs dfs -rm -r -skipTrash ${OUT_DIR} > /dev/null\n",
    "\n",
    "yarn jar /opt/cloudera/parcels/CDH/lib/hadoop-mapreduce/hadoop-streaming.jar \\\n",
    "    -D mapred.jab.name=\"Streaming wordCount\" \\\n",
    "    -D mapreduce.job.reduces=${NUM_REDUCERS} \\\n",
    "    -files mapper.py,reducer.py,/datasets/stop_words_en.txt \\\n",
    "    -mapper \"python mapper.py\" \\\n",
    "    -combiner \"python reducer.py\" \\\n",
    "    -reducer \"python reducer.py\" \\\n",
    "    -input /data/wiki/en_articles_part \\\n",
    "    -output ${OUT_DIR} > /dev/null 2> ${OUT_LOG}\n",
    "\n",
    "cat ${OUT_LOG} >&2\n",
    "grep ' words=' ${OUT_LOG} \\\n",
    "    | cut -d'=' -f2 \\\n",
    "    | paste -sd' ' \\\n",
    "    | awk '{ printf \"%f\", ($1 / $2 * 100) }'"
   ]
  },
  {
   "cell_type": "code",
   "execution_count": null,
   "metadata": {
    "collapsed": true
   },
   "outputs": [],
   "source": []
  }
 ],
 "metadata": {
  "kernelspec": {
   "display_name": "Python 2",
   "language": "python",
   "name": "python2"
  },
  "language_info": {
   "codemirror_mode": {
    "name": "ipython",
    "version": 2
   },
   "file_extension": ".py",
   "mimetype": "text/x-python",
   "name": "python",
   "nbconvert_exporter": "python",
   "pygments_lexer": "ipython2",
   "version": "2.7.12"
  }
 },
 "nbformat": 4,
 "nbformat_minor": 2
}
