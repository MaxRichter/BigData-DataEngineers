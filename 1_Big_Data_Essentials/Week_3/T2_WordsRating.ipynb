{
 "cells": [
  {
   "cell_type": "code",
   "execution_count": 23,
   "metadata": {},
   "outputs": [
    {
     "name": "stdout",
     "output_type": "stream",
     "text": [
      "Overwriting mapper.py\n"
     ]
    }
   ],
   "source": [
    "%%writefile mapper.py\n",
    "\n",
    "import sys\n",
    "import re\n",
    "\n",
    "reload(sys)\n",
    "sys.setdefaultencoding('utf-8') # required to convert to unicode\n",
    "\n",
    "for line in sys.stdin:\n",
    "    try:\n",
    "        article_id, text = unicode(line.strip()).split('\\t', 1)\n",
    "    except ValueError as e:\n",
    "        continue\n",
    "    text = re.sub(\"^\\W+|\\W+$\", \"\", text, flags=re.UNICODE)\n",
    "    words = re.split(\"\\W*\\s+\\W*\", text, flags=re.UNICODE)\n",
    "    for word in words:\n",
    "        print >> sys.stderr, \"reporter:counter:Wiki stats,Total words,%d\" % 1\n",
    "        print \"%s\\t%d\" % (word.lower(), 1)"
   ]
  },
  {
   "cell_type": "code",
   "execution_count": 2,
   "metadata": {},
   "outputs": [
    {
     "name": "stdout",
     "output_type": "stream",
     "text": [
      "Writing reducer.py\n"
     ]
    }
   ],
   "source": [
    "%%writefile reducer.py\n",
    "\n",
    "import sys\n",
    "\n",
    "current_key = None\n",
    "word_sum = 0\n",
    "\n",
    "for line in sys.stdin:\n",
    "    try:\n",
    "        key, count = line.strip().split('\\t', 1)\n",
    "        count = int(count)\n",
    "    except ValueError as e:\n",
    "        continue\n",
    "    if current_key != key:\n",
    "        if current_key:\n",
    "            print \"%s\\t%d\" % (current_key, word_sum)\n",
    "        word_sum = 0\n",
    "        current_key = key\n",
    "    word_sum += count\n",
    "\n",
    "if current_key:\n",
    "    print \"%s\\t%d\" % (current_key, word_sum)"
   ]
  },
  {
   "cell_type": "code",
   "execution_count": 30,
   "metadata": {},
   "outputs": [
    {
     "name": "stdout",
     "output_type": "stream",
     "text": [
      "Overwriting mapper2.py\n"
     ]
    }
   ],
   "source": [
    "%%writefile mapper2.py\n",
    "\n",
    "import sys\n",
    "\n",
    "reload(sys)\n",
    "sys.setdefaultencoding('utf-8') # required to convert to unicode\n",
    "\n",
    "for line in sys.stdin:\n",
    "    try:\n",
    "        word, count = line.strip().split('\\t')\n",
    "        count = int(count)\n",
    "    except ValueError as e:\n",
    "        continue\n",
    "    print \"%d\\t%s\" % (count, word)"
   ]
  },
  {
   "cell_type": "code",
   "execution_count": 31,
   "metadata": {},
   "outputs": [
    {
     "name": "stdout",
     "output_type": "stream",
     "text": [
      "Overwriting reducer2.py\n"
     ]
    }
   ],
   "source": [
    "%%writefile reducer2.py\n",
    "\n",
    "#from __future__ import print_function\n",
    "import sys\n",
    "\n",
    "for line in sys.stdin:\n",
    "    try:\n",
    "        count, word = line.strip().split('\\t')\n",
    "        count = int(count)\n",
    "    except ValueError as e:\n",
    "        continue\n",
    "    print \"%s\\t%d\" % (word, count)"
   ]
  },
  {
   "cell_type": "code",
   "execution_count": 9,
   "metadata": {},
   "outputs": [
    {
     "name": "stdout",
     "output_type": "stream",
     "text": [
      "Found 1 items\r\n",
      "drwxrwxrwx   - jovyan supergroup          0 2017-10-17 13:15 /data/wiki/en_articles_part\r\n"
     ]
    }
   ],
   "source": [
    "! hdfs dfs -ls /data/wiki"
   ]
  },
  {
   "cell_type": "code",
   "execution_count": 34,
   "metadata": {
    "scrolled": true
   },
   "outputs": [
    {
     "name": "stdout",
     "output_type": "stream",
     "text": [
      "is\t126420\n"
     ]
    },
    {
     "name": "stderr",
     "output_type": "stream",
     "text": [
      "rm: `wordcount_result_1511822612672939': No such file or directory\n",
      "17/11/27 22:43:36 INFO client.RMProxy: Connecting to ResourceManager at /0.0.0.0:8032\n",
      "17/11/27 22:43:36 INFO client.RMProxy: Connecting to ResourceManager at /0.0.0.0:8032\n",
      "17/11/27 22:43:36 INFO mapred.FileInputFormat: Total input files to process : 1\n",
      "17/11/27 22:43:36 INFO mapreduce.JobSubmitter: number of splits:2\n",
      "17/11/27 22:43:36 INFO mapreduce.JobSubmitter: Submitting tokens for job: job_1511817121749_0027\n",
      "17/11/27 22:43:37 INFO impl.YarnClientImpl: Submitted application application_1511817121749_0027\n",
      "17/11/27 22:43:37 INFO mapreduce.Job: The url to track the job: http://6a2156f454f2:8088/proxy/application_1511817121749_0027/\n",
      "17/11/27 22:43:37 INFO mapreduce.Job: Running job: job_1511817121749_0027\n",
      "17/11/27 22:43:43 INFO mapreduce.Job: Job job_1511817121749_0027 running in uber mode : false\n",
      "17/11/27 22:43:43 INFO mapreduce.Job:  map 0% reduce 0%\n",
      "17/11/27 22:43:59 INFO mapreduce.Job:  map 28% reduce 0%\n",
      "17/11/27 22:44:05 INFO mapreduce.Job:  map 42% reduce 0%\n",
      "17/11/27 22:44:11 INFO mapreduce.Job:  map 46% reduce 0%\n",
      "17/11/27 22:44:17 INFO mapreduce.Job:  map 58% reduce 0%\n",
      "17/11/27 22:44:23 INFO mapreduce.Job:  map 67% reduce 0%\n",
      "17/11/27 22:44:26 INFO mapreduce.Job:  map 100% reduce 0%\n",
      "17/11/27 22:44:31 INFO mapreduce.Job:  map 100% reduce 13%\n",
      "17/11/27 22:44:32 INFO mapreduce.Job:  map 100% reduce 25%\n",
      "17/11/27 22:44:33 INFO mapreduce.Job:  map 100% reduce 38%\n",
      "17/11/27 22:44:34 INFO mapreduce.Job:  map 100% reduce 50%\n",
      "17/11/27 22:44:35 INFO mapreduce.Job:  map 100% reduce 63%\n",
      "17/11/27 22:44:36 INFO mapreduce.Job:  map 100% reduce 75%\n",
      "17/11/27 22:44:37 INFO mapreduce.Job:  map 100% reduce 100%\n",
      "17/11/27 22:44:38 INFO mapreduce.Job: Job job_1511817121749_0027 completed successfully\n",
      "17/11/27 22:44:38 INFO mapreduce.Job: Counters: 51\n",
      "\tFile System Counters\n",
      "\t\tFILE: Number of bytes read=17941178\n",
      "\t\tFILE: Number of bytes written=28232115\n",
      "\t\tFILE: Number of read operations=0\n",
      "\t\tFILE: Number of large read operations=0\n",
      "\t\tFILE: Number of write operations=0\n",
      "\t\tHDFS: Number of bytes read=76874501\n",
      "\t\tHDFS: Number of bytes written=5363834\n",
      "\t\tHDFS: Number of read operations=30\n",
      "\t\tHDFS: Number of large read operations=0\n",
      "\t\tHDFS: Number of write operations=16\n",
      "\tJob Counters \n",
      "\t\tKilled reduce tasks=1\n",
      "\t\tLaunched map tasks=2\n",
      "\t\tLaunched reduce tasks=8\n",
      "\t\tData-local map tasks=2\n",
      "\t\tTotal time spent by all maps in occupied slots (ms)=83057\n",
      "\t\tTotal time spent by all reduces in occupied slots (ms)=22569\n",
      "\t\tTotal time spent by all map tasks (ms)=83057\n",
      "\t\tTotal time spent by all reduce tasks (ms)=22569\n",
      "\t\tTotal vcore-milliseconds taken by all map tasks=83057\n",
      "\t\tTotal vcore-milliseconds taken by all reduce tasks=22569\n",
      "\t\tTotal megabyte-milliseconds taken by all map tasks=85050368\n",
      "\t\tTotal megabyte-milliseconds taken by all reduce tasks=23110656\n",
      "\tMap-Reduce Framework\n",
      "\t\tMap input records=4100\n",
      "\t\tMap output records=11937317\n",
      "\t\tMap output bytes=97841276\n",
      "\t\tMap output materialized bytes=8944117\n",
      "\t\tInput split bytes=228\n",
      "\t\tCombine input records=11937317\n",
      "\t\tCombine output records=639325\n",
      "\t\tReduce input groups=426552\n",
      "\t\tReduce shuffle bytes=8944117\n",
      "\t\tReduce input records=639325\n",
      "\t\tReduce output records=426552\n",
      "\t\tSpilled Records=1917975\n",
      "\t\tShuffled Maps =16\n",
      "\t\tFailed Shuffles=0\n",
      "\t\tMerged Map outputs=16\n",
      "\t\tGC time elapsed (ms)=1214\n",
      "\t\tCPU time spent (ms)=144390\n",
      "\t\tPhysical memory (bytes) snapshot=2362560512\n",
      "\t\tVirtual memory (bytes) snapshot=20226666496\n",
      "\t\tTotal committed heap usage (bytes)=1604321280\n",
      "\tShuffle Errors\n",
      "\t\tBAD_ID=0\n",
      "\t\tCONNECTION=0\n",
      "\t\tIO_ERROR=0\n",
      "\t\tWRONG_LENGTH=0\n",
      "\t\tWRONG_MAP=0\n",
      "\t\tWRONG_REDUCE=0\n",
      "\tWiki stats\n",
      "\t\tTotal words=11937317\n",
      "\tFile Input Format Counters \n",
      "\t\tBytes Read=76874273\n",
      "\tFile Output Format Counters \n",
      "\t\tBytes Written=5363834\n",
      "17/11/27 22:44:38 INFO streaming.StreamJob: Output directory: wordcount_result_1511822612672939\n",
      "rm: `wordcount_final_1511822678986325': No such file or directory\n",
      "17/11/27 22:44:42 INFO client.RMProxy: Connecting to ResourceManager at /0.0.0.0:8032\n",
      "17/11/27 22:44:42 INFO client.RMProxy: Connecting to ResourceManager at /0.0.0.0:8032\n",
      "17/11/27 22:44:43 INFO mapred.FileInputFormat: Total input files to process : 8\n",
      "17/11/27 22:44:43 INFO mapreduce.JobSubmitter: number of splits:8\n",
      "17/11/27 22:44:43 INFO Configuration.deprecation: mapred.text.key.comparator.options is deprecated. Instead, use mapreduce.partition.keycomparator.options\n",
      "17/11/27 22:44:43 INFO Configuration.deprecation: mapred.output.key.comparator.class is deprecated. Instead, use mapreduce.job.output.key.comparator.class\n",
      "17/11/27 22:44:43 INFO mapreduce.JobSubmitter: Submitting tokens for job: job_1511817121749_0028\n",
      "17/11/27 22:44:43 INFO impl.YarnClientImpl: Submitted application application_1511817121749_0028\n",
      "17/11/27 22:44:43 INFO mapreduce.Job: The url to track the job: http://6a2156f454f2:8088/proxy/application_1511817121749_0028/\n",
      "17/11/27 22:44:43 INFO mapreduce.Job: Running job: job_1511817121749_0028\n",
      "17/11/27 22:44:49 INFO mapreduce.Job: Job job_1511817121749_0028 running in uber mode : false\n",
      "17/11/27 22:44:49 INFO mapreduce.Job:  map 0% reduce 0%\n",
      "17/11/27 22:44:54 INFO mapreduce.Job:  map 75% reduce 0%\n",
      "17/11/27 22:44:57 INFO mapreduce.Job:  map 100% reduce 0%\n",
      "17/11/27 22:45:01 INFO mapreduce.Job:  map 100% reduce 100%\n",
      "17/11/27 22:45:01 INFO mapreduce.Job: Job job_1511817121749_0028 completed successfully\n",
      "17/11/27 22:45:01 INFO mapreduce.Job: Counters: 49\n",
      "\tFile System Counters\n",
      "\t\tFILE: Number of bytes read=6216963\n",
      "\t\tFILE: Number of bytes written=13693994\n",
      "\t\tFILE: Number of read operations=0\n",
      "\t\tFILE: Number of large read operations=0\n",
      "\t\tFILE: Number of write operations=0\n",
      "\t\tHDFS: Number of bytes read=5364874\n",
      "\t\tHDFS: Number of bytes written=5363834\n",
      "\t\tHDFS: Number of read operations=27\n",
      "\t\tHDFS: Number of large read operations=0\n",
      "\t\tHDFS: Number of write operations=2\n",
      "\tJob Counters \n",
      "\t\tLaunched map tasks=8\n",
      "\t\tLaunched reduce tasks=1\n",
      "\t\tData-local map tasks=8\n",
      "\t\tTotal time spent by all maps in occupied slots (ms)=24192\n",
      "\t\tTotal time spent by all reduces in occupied slots (ms)=3944\n",
      "\t\tTotal time spent by all map tasks (ms)=24192\n",
      "\t\tTotal time spent by all reduce tasks (ms)=3944\n",
      "\t\tTotal vcore-milliseconds taken by all map tasks=24192\n",
      "\t\tTotal vcore-milliseconds taken by all reduce tasks=3944\n",
      "\t\tTotal megabyte-milliseconds taken by all map tasks=24772608\n",
      "\t\tTotal megabyte-milliseconds taken by all reduce tasks=4038656\n",
      "\tMap-Reduce Framework\n",
      "\t\tMap input records=426552\n",
      "\t\tMap output records=426552\n",
      "\t\tMap output bytes=5363843\n",
      "\t\tMap output materialized bytes=6217005\n",
      "\t\tInput split bytes=1040\n",
      "\t\tCombine input records=0\n",
      "\t\tCombine output records=0\n",
      "\t\tReduce input groups=2048\n",
      "\t\tReduce shuffle bytes=6217005\n",
      "\t\tReduce input records=426552\n",
      "\t\tReduce output records=426552\n",
      "\t\tSpilled Records=853104\n",
      "\t\tShuffled Maps =8\n",
      "\t\tFailed Shuffles=0\n",
      "\t\tMerged Map outputs=8\n",
      "\t\tGC time elapsed (ms)=950\n",
      "\t\tCPU time spent (ms)=15650\n",
      "\t\tPhysical memory (bytes) snapshot=2556309504\n",
      "\t\tVirtual memory (bytes) snapshot=18099748864\n",
      "\t\tTotal committed heap usage (bytes)=1760559104\n",
      "\tShuffle Errors\n",
      "\t\tBAD_ID=0\n",
      "\t\tCONNECTION=0\n",
      "\t\tIO_ERROR=0\n",
      "\t\tWRONG_LENGTH=0\n",
      "\t\tWRONG_MAP=0\n",
      "\t\tWRONG_REDUCE=0\n",
      "\tFile Input Format Counters \n",
      "\t\tBytes Read=5363834\n",
      "\tFile Output Format Counters \n",
      "\t\tBytes Written=5363834\n",
      "17/11/27 22:45:01 INFO streaming.StreamJob: Output directory: wordcount_final_1511822678986325\n",
      "cat: Unable to write to output stream.\n"
     ]
    }
   ],
   "source": [
    "%%bash\n",
    "\n",
    "OUT_DIR=\"wordcount_result_\"$(date +\"%s%6N\")\n",
    "NUM_REDUCERS=8\n",
    "\n",
    "hdfs dfs -rm -r -skipTrash ${OUT_DIR} > /dev/null\n",
    "\n",
    "yarn jar /opt/cloudera/parcels/CDH/lib/hadoop-mapreduce/hadoop-streaming.jar \\\n",
    "    -D mapred.jab.name=\"Streaming wordCount\" \\\n",
    "    -D mapreduce.job.reduces=${NUM_REDUCERS} \\\n",
    "    -files mapper.py,reducer.py \\\n",
    "    -mapper \"python mapper.py\" \\\n",
    "    -combiner \"python reducer.py\" \\\n",
    "    -reducer \"python reducer.py\" \\\n",
    "    -input /data/wiki/en_articles_part \\\n",
    "    -output ${OUT_DIR} > /dev/null\n",
    "\n",
    "#hdfs dfs -cat ${OUT_DIR}/part-00000 | head\n",
    "\n",
    "OUT_DIR2=\"wordcount_final_\"$(date +\"%s%6N\")\n",
    "NUM_REDUCERS=1\n",
    "\n",
    "hdfs dfs -rm -r -skipTrash ${OUT_DIR2} > /dev/null\n",
    "\n",
    "yarn jar /opt/cloudera/parcels/CDH/lib/hadoop-mapreduce/hadoop-streaming.jar \\\n",
    "    -D mapred.jab.name=\"Streaming wordCount\" \\\n",
    "    -D mapred.output.key.comparator.class=org.apache.hadoop.mapred.lib.KeyFieldBasedComparator \\\n",
    "    -D mapred.text.key.comparator.options=-nr \\\n",
    "    -D mapreduce.job.reduces=${NUM_REDUCERS} \\\n",
    "    -files mapper2.py,reducer2.py \\\n",
    "    -mapper \"python mapper2.py\" \\\n",
    "    -reducer \"python reducer2.py\" \\\n",
    "    -input ${OUT_DIR} \\\n",
    "    -output ${OUT_DIR2} > /dev/null\n",
    "\n",
    "hdfs dfs -cat ${OUT_DIR2}/part-00000 | head -7 | tail -1"
   ]
  },
  {
   "cell_type": "code",
   "execution_count": null,
   "metadata": {
    "collapsed": true
   },
   "outputs": [],
   "source": []
  }
 ],
 "metadata": {
  "kernelspec": {
   "display_name": "Python 2",
   "language": "python",
   "name": "python2"
  },
  "language_info": {
   "codemirror_mode": {
    "name": "ipython",
    "version": 2
   },
   "file_extension": ".py",
   "mimetype": "text/x-python",
   "name": "python",
   "nbconvert_exporter": "python",
   "pygments_lexer": "ipython2",
   "version": "2.7.12"
  }
 },
 "nbformat": 4,
 "nbformat_minor": 2
}
